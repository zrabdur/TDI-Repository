{
 "cells": [
  {
   "cell_type": "markdown",
   "metadata": {},
   "source": [
    "# Summary\n",
    "\n",
    "\n",
    "### There are four notebooks.\n",
    "    - Project_Summary (this notebook) is used the following three notebooks to summarize the findings.\n",
    "    - Exploratory_Analysis\n",
    "    - Classification_Models\n",
    "    - feature_importance_rf\n",
    "\n",
    "The airline passenger data contains 22 variables for about 130,000 passengers. The data consists of customer rankings for 14 features (services) from poor to good (1, 2, 3, 4, and 5), where 1 is the worst and 5 is the best rank for any of those services. The customers also ranked the overall service as either (i) satisfied or (ii) neutral or dissatisfied. Besides these 15 variables, the other variables consist of data on customer demographics e.g. age, gender, loyalty, and flight information, e.g., flight distance, delay, etc.  \n",
    "\n",
    "The data analysis has two parts; the first step evaluates the data. In the second step, different machine learning methods are applied using regression, support vector machine, random forest, nearest neighbor, and catboost. The analysis also used Shannon-Jensen divergence (distance) to compare similarities/dissimilarities, i.e., determine dependencies among (i) loyal and disloyal customers and (ii) satisfied and dissatisfied loyal customers for different features.\n",
    "\n",
    "The initial data analysis has been conducted to evaluate the data quality, e.g., null values, missing values, outliers, etc. These values were either replaced by median values or dropped from the data analysis. Following the data quality check, an initial analysis is completed by looking at different variable interactions using data grouping. Data grouping is primarily conducted using CustomerType (loyal and disloyal) and SatisfactionType (satisfied and dissatisfied), and on occasions, other variables, e.g., Age, Gender, and Class.\n",
    "\n",
    "The data shows ~82% of the nearly 130,000 customers are loyal, and the remaining 18% are disloyal customers. The initial analysis suggests that the satisfaction level is nearly evenly split among the 106,000 loyal travelers (customers) (39% satisfied vs. 43% dissatisfied or neutral). The satisfaction level of the loyal customers should be a Major Concern for the company. \n",
    "\n",
    "The dissatisfaction level of the disloyal travelers is considerably higher. The satisfaction level is only 4% as opposed to their dissatisfaction level (14%) for the remaining nearly 24,000 disloyal customers. The data shows that the company, if not already suffering from loss of customers, may face trouble in retaining the current loyal customers. Additionally, the disloyal customer dissatisfaction level suggests that the company will also face difficulty gaining new loyal customers.\n",
    "\n",
    "The company has 82% loyal customers. The analysis, therefore, put a major focus on the effects of different variables on the loyal customer group's satisfaction. In the exploratory analysis, we used Shannon-Jensen distance which measures the similarity between two distributions. The smaller the distance, the more alike the distributions are, indicating a relatively lower effect of the variable on overall loyal customer satisfaction.  The calculated Shannon-Jensen distance thus provided a measure of a feature's effect on loyal customers' satisfaction/dissatisfaction. \n",
    "\n",
    "The largest Shannon-Jensen distances are observed for Type of Travel (0.528), Online boarding (0.527), and Class (0.469), and the smallest values are observed for the features Gender (0.002), Gate location (0.110), and Departure/Arrival time (0.136). \n",
    "\n",
    "Machine learning model implementing Random-Forest Regression has been used to determine the variable significance on the same data set used for the Shannon-Jensen distance computations. The variables with the largest effects are Type of Travel (0.263), Online boarding (0.179), and Inflight wifi service (0.135), and the ones with least effect are Gender (0.001), Food and Drink (0.004), and Departure Arrival time (0.005). The top five variables observed in the RF model are also the top five variables in the Shanon-Jensen distance.\n",
    "\n",
    "The classification models used logistic regression, random forest, nearest neighbor, support vector machines, and catboost. The analyses split the data into train and test sets following dropping/replacing missing and outlier data rows. The CatBoost and Random Forest model accuracy scores are the best (> 0.98) in predicting customer loyalty. The high accuracy score indicates that the variables evaluated by these models can improve customer retention and gain new customers.  \n",
    "\n",
    "The SHAP explainer is implemented with CatBoost, which provides feature dependencies of loyal customer satisfaction levels. The top five dependencies from the SHAP explainer are Type of Travel (3.94), Departure Arrival Time Convenience (1.98), Satisfaction Type (1.73), Gate location (1.6), and Ease of Online Booking (1.36). Also, the Shannon-Jensen distances for all features for loyal and disloyal customers have been computed. The analysis shows that the dissatisfaction among the economy class, personal travelers is very high. Gender does not have any effect on customer satisfaction for both the loyal and disloyal customers.\n",
    "\n",
    "The data lacks some important variables, e.g., cost of tickets, date and time of flights, number of stoppages, flight departure and arrival city locations, how often a traveler travels, loss of repeated customers, gain of new repeated customers, etc. The addition of this information will bolster the airline company's passenger retention strategy. \n",
    "\n",
    "A correlation matrix of different features has been generated for advanced analysis. "
   ]
  },
  {
   "cell_type": "code",
   "execution_count": null,
   "metadata": {},
   "outputs": [],
   "source": []
  }
 ],
 "metadata": {
  "kernelspec": {
   "display_name": "Python 3",
   "language": "python",
   "name": "python3"
  },
  "language_info": {
   "codemirror_mode": {
    "name": "ipython",
    "version": 3
   },
   "file_extension": ".py",
   "mimetype": "text/x-python",
   "name": "python",
   "nbconvert_exporter": "python",
   "pygments_lexer": "ipython3",
   "version": "3.7.3"
  }
 },
 "nbformat": 4,
 "nbformat_minor": 2
}
